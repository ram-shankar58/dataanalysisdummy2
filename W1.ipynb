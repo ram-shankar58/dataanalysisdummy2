import pandas as pd
from sklearn.model_selection import train_test_split
from sklearn.ensemble import RandomForestClassifier
from sklearn.metrics import accuracy_score
from sklearn.compose import ColumnTransformer
from sklearn.pipeline import Pipeline
from sklearn.impute import SimpleImputer
from sklearn.preprocessing import StandardScaler, OneHotEncoder

# Load the data
data = pd.read_csv("/kaggle/input/inputfiles/train.csv")

# Define the target variable and features
y = data["House"]
X = data.drop("House", axis=1)

# Split the data into training and validation sets
X_train, X_val, y_train, y_val = train_test_split(X, y, test_size=0.2, random_state=42)

# Define numerical and categorical columns
numerical_cols = [
    "Intelligence",
    "Loyalty",
    "Affinity to Dark Arts",
    "Height",
    "Kindness"
]

categorical_cols = [
    "Blood Status",
    "Gender",
    "What are you curious about?",
    "Preferred Goblet Potion",
    "If you were a principal, how would you choose your students?",
    "Species",
    "Preferred Element",
    "Magic Transportation Model"
]

# Preprocessing for numerical data: fill missing values with the mean and standardize
numerical_transformer = Pipeline(steps=[
    ("imputer", SimpleImputer(strategy="mean")),
    ("scaler", StandardScaler())
])

# Preprocessing for categorical data: fill missing values with the most frequent value and one-hot encoding
categorical_transformer = Pipeline(steps=[
    ("imputer", SimpleImputer(strategy="most_frequent")),
    ("onehot", OneHotEncoder(drop="first", handle_unknown="ignore"))
])

# Bundle preprocessing for numerical and categorical data
preprocessor = ColumnTransformer(
    transformers=[
        ("num", numerical_transformer, numerical_cols),
        ("cat", categorical_transformer, categorical_cols)
    ])

# Define the model
model = RandomForestClassifier(random_state=42)

# Bundle preprocessing and modeling code in a pipeline
clf = Pipeline(steps=[('preprocessor', preprocessor),
                      ('model', model)])

# Preprocessing of training data, fit model 
clf.fit(X_train, y_train)

# Preprocessing of validation data, get predictions
y_pred = clf.predict(X_val)

# Evaluate the model
accuracy = accuracy_score(y_val, y_pred)
print("Model Accuracy: {:.2f}%".format(accuracy * 100))
